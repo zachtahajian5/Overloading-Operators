{
  "nbformat": 4,
  "nbformat_minor": 0,
  "metadata": {
    "colab": {
      "provenance": [],
      "authorship_tag": "ABX9TyNXPXizKwrTFEpoedD/cZOa",
      "include_colab_link": true
    },
    "kernelspec": {
      "name": "python3",
      "display_name": "Python 3"
    },
    "language_info": {
      "name": "python"
    }
  },
  "cells": [
    {
      "cell_type": "markdown",
      "metadata": {
        "id": "view-in-github",
        "colab_type": "text"
      },
      "source": [
        "<a href=\"https://colab.research.google.com/github/zachtahajian5/Overloading-Operators/blob/main/Dunder_Methods.ipynb\" target=\"_parent\"><img src=\"https://colab.research.google.com/assets/colab-badge.svg\" alt=\"Open In Colab\"/></a>"
      ]
    },
    {
      "cell_type": "code",
      "execution_count": 2,
      "metadata": {
        "id": "YSBJdDaOg7Gc"
      },
      "outputs": [],
      "source": [
        "#python file\n",
        "\n",
        "#looking at overloading operators\n",
        "\n",
        "#Overloading operators is a form of Polymorphism and it involves using dunder methods to implemnt custom functionality for operators\n",
        "\n",
        "#there are many operators that have built-in dunder methods that we can use to overload the operator for a given class\n",
        "\n",
        "#we can also say that we re-define the way that operator function when being used with a given object. that definition is within the class itself\n",
        "\n",
        "# Operator, Dunder Method\n",
        "-------------------------------------\n",
        "#   Operator + Dunder Method __add__\n",
        "#   Operator -  Dunder Method __sub__\n",
        "#   Operator *  Dunder Method __mul__\n",
        "#   Operator /  Dunder Method __truediv__\n",
        "#   Operator // Dunder Method __floordiv__\n",
        "#   Operator %  Dunder Method __mod__\n",
        "#   Operator ** Dunder Method __pow__\n",
        "\n",
        "\n",
        "\n",
        "\n",
        "\n",
        "\n",
        "\n"
      ]
    },
    {
      "cell_type": "code",
      "source": [
        "# Practicing Len()\n",
        "# on a string\n",
        "\n",
        "string_1 = \"goblin\"\n",
        "len_of_s1 = len(string_1)\n",
        "print(len_of_s1)\n",
        "\n"
      ],
      "metadata": {
        "colab": {
          "base_uri": "https://localhost:8080/"
        },
        "id": "NgRGzEgUr-WL",
        "outputId": "c420dda5-5b10-4347-ec3d-4f48098a3ac2"
      },
      "execution_count": 4,
      "outputs": [
        {
          "output_type": "stream",
          "name": "stdout",
          "text": [
            "6\n"
          ]
        }
      ]
    },
    {
      "cell_type": "code",
      "source": [
        "#practicing Len() on a string\n",
        "\n",
        "string_1 = \"Goblin\"\n",
        "print(len(string_1))"
      ],
      "metadata": {
        "colab": {
          "base_uri": "https://localhost:8080/"
        },
        "id": "hGwXJQqssQMp",
        "outputId": "065fc501-da4e-496d-d972-ab667829dcc4"
      },
      "execution_count": 5,
      "outputs": [
        {
          "output_type": "stream",
          "name": "stdout",
          "text": [
            "6\n"
          ]
        }
      ]
    },
    {
      "cell_type": "code",
      "source": [],
      "metadata": {
        "id": "4Q8tQiqzixPs"
      },
      "execution_count": null,
      "outputs": []
    }
  ]
}